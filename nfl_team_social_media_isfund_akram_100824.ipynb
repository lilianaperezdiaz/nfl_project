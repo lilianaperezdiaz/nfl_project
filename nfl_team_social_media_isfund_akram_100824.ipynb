{
 "cells": [
  {
   "cell_type": "code",
   "execution_count": 3,
   "id": "012a6b51-90c1-4d5c-b79a-e517bfd40255",
   "metadata": {},
   "outputs": [],
   "source": [
    "import pandas as pd"
   ]
  },
  {
   "cell_type": "code",
   "execution_count": 4,
   "id": "a1a575a9-d9b9-4269-9357-5fb760aea7ea",
   "metadata": {},
   "outputs": [],
   "source": [
    "#Load each social media following per team csv files\n",
    "instagram_followers = pd.read_csv('nfl_team_instagram_followers.csv')\n",
    "facebook_followers = pd.read_csv('nfl_team_facebook_followers.csv')\n",
    "twitter_followers = pd.read_csv('nfl_team_twitter_followers.csv')"
   ]
  },
  {
   "cell_type": "code",
   "execution_count": 5,
   "id": "2545801e-7ced-4c3d-9999-8b50e36850e0",
   "metadata": {},
   "outputs": [
    {
     "name": "stdout",
     "output_type": "stream",
     "text": [
      "Instragram Followers:\n",
      "          Team Name   Instagram\n",
      "0  Arizona  Caridnal    1200000\n",
      "1    Atlanta Falcons    1400000\n",
      "2   Baltimore Ravens    2200000\n",
      "3      Buffalo Bills    1900000\n",
      "4  Carolina Panthers    1900000\n"
     ]
    }
   ],
   "source": [
    "print('Instragram Followers:')\n",
    "print(instagram_followers.head())"
   ]
  },
  {
   "cell_type": "code",
   "execution_count": 6,
   "id": "e5dd513b-639d-428b-a84f-7f123b33257e",
   "metadata": {},
   "outputs": [
    {
     "name": "stdout",
     "output_type": "stream",
     "text": [
      "Facebook Followers:\n",
      "          Team Name         Facebook\n",
      "0  Arizona  Caridnal   1,300,000.00 \n",
      "1    Atlanta Falcons   1,800,000.00 \n",
      "2   Baltimore Ravens   2,200,000.00 \n",
      "3      Buffalo Bills   1,000,000.00 \n",
      "4  Carolina Panthers   2,100,000.00 \n"
     ]
    }
   ],
   "source": [
    "print('Facebook Followers:')\n",
    "print(facebook_followers.head())"
   ]
  },
  {
   "cell_type": "code",
   "execution_count": 7,
   "id": "f4e48f37-6606-483c-b44c-eac4ca53f499",
   "metadata": {},
   "outputs": [
    {
     "name": "stdout",
     "output_type": "stream",
     "text": [
      "Twitter Followers:\n",
      "          Team Name          Twitter  Unnamed: 2  Unnamed: 3  Unnamed: 4\n",
      "0  Arizona  Caridnal   1,160,000.00          NaN         NaN         NaN\n",
      "1    Atlanta Falcons   2,440,000.00          NaN         NaN         NaN\n",
      "2   Baltimore Ravens   1,870,000.00          NaN         NaN         NaN\n",
      "3      Buffalo Bills   1,710,000.00          NaN         NaN         NaN\n",
      "4  Carolina Panthers   3,070,000.00          NaN         NaN         NaN\n"
     ]
    }
   ],
   "source": [
    "print('Twitter Followers:')\n",
    "print(twitter_followers.head())"
   ]
  },
  {
   "cell_type": "code",
   "execution_count": 8,
   "id": "4bb64730-064d-4613-9160-84bbc948d1cd",
   "metadata": {},
   "outputs": [],
   "source": [
    "#Cleaning IG data\n",
    "#Converting follower count to numeric\n",
    "instagram_followers['Instagram'] = instagram_followers['Instagram'].apply(pd.to_numeric, errors='coerce')"
   ]
  },
  {
   "cell_type": "code",
   "execution_count": 9,
   "id": "fd1391e3-b08b-4584-b364-ebba5596b3dc",
   "metadata": {},
   "outputs": [],
   "source": [
    "#Cleaning FB Data\n",
    "facebook_followers['Facebook'] = facebook_followers['Facebook'].str.replace(',', '').str.strip()\n",
    "facebook_followers['Facebook'] = facebook_followers['Facebook'].apply(pd.to_numeric, errors='coerce')"
   ]
  },
  {
   "cell_type": "code",
   "execution_count": 10,
   "id": "bd8e91b6-b4dd-4420-b2a9-d5254916fa4a",
   "metadata": {},
   "outputs": [
    {
     "name": "stdout",
     "output_type": "stream",
     "text": [
      "          Team Name           X\n",
      "0  Arizona  Caridnal  1160000.0\n",
      "1    Atlanta Falcons  2440000.0\n",
      "2   Baltimore Ravens  1870000.0\n",
      "3      Buffalo Bills  1710000.0\n",
      "4  Carolina Panthers  3070000.0\n"
     ]
    }
   ],
   "source": [
    "#Cleaning Twitter Followers\n",
    "# Convert the 'Twitter' column to strings before applying string operations\n",
    "twitter_followers['Twitter'] = twitter_followers['Twitter'].astype(str)\n",
    "\n",
    "# Remove commas and strip any extra spaces in the Twitter follower counts\n",
    "twitter_followers['Twitter'] = twitter_followers['Twitter'].str.replace(',', '').str.strip()\n",
    "\n",
    "# Convert the cleaned Twitter follower counts back to numeric\n",
    "twitter_followers['Twitter'] = twitter_followers['Twitter'].apply(pd.to_numeric, errors='coerce')\n",
    "\n",
    "# Drop unnecessary \"Unnamed\" columns that are filled with NaN and create a copy\n",
    "twitter_followers_cleaned = twitter_followers.dropna(axis=1, how='all').copy()\n",
    "\n",
    "# Rename the 'Twitter' column to 'X'\n",
    "twitter_followers_cleaned.rename(columns={'Twitter': 'X'}, inplace=True)\n",
    "\n",
    "# Inspect the cleaned DataFrame\n",
    "print(twitter_followers_cleaned.head())"
   ]
  },
  {
   "cell_type": "code",
   "execution_count": 11,
   "id": "7ab40f3b-b692-4738-ad67-4a793bc5c55d",
   "metadata": {},
   "outputs": [],
   "source": [
    "# I was running into an error when mergeing the columns \n",
    "# so i had to standardize the columns name"
   ]
  },
  {
   "cell_type": "code",
   "execution_count": 12,
   "id": "fa134694-54d0-4c23-9468-229ae402b88f",
   "metadata": {},
   "outputs": [],
   "source": [
    "# Standardize the column names\n",
    "instagram_followers.rename(columns=lambda x: x.strip(), inplace=True)\n",
    "facebook_followers.rename(columns=lambda x: x.strip(), inplace=True)\n",
    "twitter_followers_cleaned.rename(columns=lambda x: x.strip(), inplace=True)"
   ]
  },
  {
   "cell_type": "code",
   "execution_count": 13,
   "id": "48888038-dd8e-4ffb-91cf-b3f5f3e18a5e",
   "metadata": {},
   "outputs": [],
   "source": [
    "# Ensure all 'Team Name' columns are consistent\n",
    "instagram_followers.rename(columns={'team name': 'Team Name'}, inplace=True)\n",
    "facebook_followers.rename(columns={'team name': 'Team Name'}, inplace=True)\n",
    "twitter_followers_cleaned.rename(columns={'team name': 'Team Name'}, inplace=True)\n"
   ]
  },
  {
   "cell_type": "code",
   "execution_count": 14,
   "id": "44054398-29a5-43a1-b660-ad7eb424e5e9",
   "metadata": {},
   "outputs": [
    {
     "name": "stdout",
     "output_type": "stream",
     "text": [
      "Index(['Team Name', 'Instagram'], dtype='object')\n",
      "Index(['Team Name', 'Facebook'], dtype='object')\n",
      "Index(['Team Name', 'X'], dtype='object')\n"
     ]
    }
   ],
   "source": [
    "print(instagram_followers.columns)\n",
    "print(facebook_followers.columns)\n",
    "print(twitter_followers_cleaned.columns)"
   ]
  },
  {
   "cell_type": "code",
   "execution_count": 15,
   "id": "151f48ee-d7bc-436e-8d06-ed2e519b3857",
   "metadata": {},
   "outputs": [],
   "source": [
    "merged_data = pd.merge(instagram_followers, facebook_followers, on='Team Name', how='outer')\n",
    "merged_data = pd.merge(merged_data, twitter_followers_cleaned, on='Team Name', how='outer')"
   ]
  },
  {
   "cell_type": "code",
   "execution_count": 16,
   "id": "5b38d109-b267-4848-a631-404398578e09",
   "metadata": {},
   "outputs": [
    {
     "name": "stdout",
     "output_type": "stream",
     "text": [
      "           Team Name  Instagram   Facebook          X\n",
      "0  Arizona  Caridnal    1200000  1300000.0  1160000.0\n",
      "1    Atlanta Falcons    1400000  1800000.0  2440000.0\n",
      "2   Baltimore Ravens    2200000  2200000.0  1870000.0\n",
      "3      Buffalo Bills    1900000  1000000.0  1710000.0\n",
      "4  Carolina Panthers    1900000  2100000.0  3070000.0\n"
     ]
    }
   ],
   "source": [
    "print(merged_data.head())"
   ]
  },
  {
   "cell_type": "code",
   "execution_count": 17,
   "id": "03b1a7fc-6fbe-4fd9-bb2a-5c134ddbf9ba",
   "metadata": {},
   "outputs": [],
   "source": [
    "#Output data to csv\n",
    "output_file_name = 'nfl_social_media_cleaned_isfund.csv'\n",
    "merged_data.to_csv(output_file_name, index=False)"
   ]
  },
  {
   "cell_type": "code",
   "execution_count": null,
   "id": "e0f86452-d3ff-4e14-8994-fe20502a01f9",
   "metadata": {},
   "outputs": [],
   "source": []
  }
 ],
 "metadata": {
  "kernelspec": {
   "display_name": "Python 3 (ipykernel)",
   "language": "python",
   "name": "python3"
  },
  "language_info": {
   "codemirror_mode": {
    "name": "ipython",
    "version": 3
   },
   "file_extension": ".py",
   "mimetype": "text/x-python",
   "name": "python",
   "nbconvert_exporter": "python",
   "pygments_lexer": "ipython3",
   "version": "3.12.4"
  }
 },
 "nbformat": 4,
 "nbformat_minor": 5
}
