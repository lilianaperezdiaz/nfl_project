{
 "cells": [
  {
   "cell_type": "code",
   "execution_count": 1,
   "id": "83542198-8b11-4cc7-8021-36b8d88227a2",
   "metadata": {},
   "outputs": [],
   "source": [
    "import pandas as pd"
   ]
  },
  {
   "cell_type": "code",
   "execution_count": 2,
   "id": "be725462-e4fc-4b1b-b38e-b0674c0b0bd2",
   "metadata": {},
   "outputs": [],
   "source": [
    "file_path = \"/Users/ylsstudent/Downloads/archive/NFL_team_data.csv\"\n",
    "team_data = pd.read_csv(file_path)\n"
   ]
  },
  {
   "cell_type": "code",
   "execution_count": 5,
   "id": "c6e7e72f-e411-42fb-b270-3f378e14dc83",
   "metadata": {},
   "outputs": [],
   "source": [
    "team_data_cleaned = team_data.drop(columns=['home_stadium', 'location', 'lat', 'long', 'mascot', 'live_mascots', 'conference', \n",
    "                              'division', 'superbowl_wins', 'year_est'])"
   ]
  },
  {
   "cell_type": "code",
   "execution_count": 7,
   "id": "05c216f2-be38-419d-b3ac-1b1f91a7d8d2",
   "metadata": {},
   "outputs": [
    {
     "data": {
      "text/html": [
       "<div>\n",
       "<style scoped>\n",
       "    .dataframe tbody tr th:only-of-type {\n",
       "        vertical-align: middle;\n",
       "    }\n",
       "\n",
       "    .dataframe tbody tr th {\n",
       "        vertical-align: top;\n",
       "    }\n",
       "\n",
       "    .dataframe thead th {\n",
       "        text-align: right;\n",
       "    }\n",
       "</style>\n",
       "<table border=\"1\" class=\"dataframe\">\n",
       "  <thead>\n",
       "    <tr style=\"text-align: right;\">\n",
       "      <th></th>\n",
       "      <th>team_name</th>\n",
       "    </tr>\n",
       "  </thead>\n",
       "  <tbody>\n",
       "    <tr>\n",
       "      <th>0</th>\n",
       "      <td>Arizona Cardinals</td>\n",
       "    </tr>\n",
       "    <tr>\n",
       "      <th>1</th>\n",
       "      <td>Atlanta Falcons</td>\n",
       "    </tr>\n",
       "    <tr>\n",
       "      <th>2</th>\n",
       "      <td>Baltimore Ravens</td>\n",
       "    </tr>\n",
       "    <tr>\n",
       "      <th>3</th>\n",
       "      <td>Buffalo Bills</td>\n",
       "    </tr>\n",
       "    <tr>\n",
       "      <th>4</th>\n",
       "      <td>Carolina Panthers</td>\n",
       "    </tr>\n",
       "  </tbody>\n",
       "</table>\n",
       "</div>"
      ],
      "text/plain": [
       "           team_name\n",
       "0  Arizona Cardinals\n",
       "1    Atlanta Falcons\n",
       "2   Baltimore Ravens\n",
       "3      Buffalo Bills\n",
       "4  Carolina Panthers"
      ]
     },
     "execution_count": 7,
     "metadata": {},
     "output_type": "execute_result"
    }
   ],
   "source": [
    "team_data_cleaned = team_data_cleaned.sort_values(by='team_name').reset_index(drop=True)\n",
    "\n",
    "team_data_cleaned.head()"
   ]
  },
  {
   "cell_type": "code",
   "execution_count": 9,
   "id": "4cd4c8cf-9c0f-4c3e-af37-9a42885bd3a2",
   "metadata": {},
   "outputs": [],
   "source": [
    "team_ids = []\n",
    "\n",
    "for team_id in range(1, len(team_data_cleaned) + 1):\n",
    "    team_ids.append(team_id)"
   ]
  },
  {
   "cell_type": "code",
   "execution_count": 11,
   "id": "85ba065b-8b3a-46f3-a3b2-e6cb8b65c773",
   "metadata": {},
   "outputs": [
    {
     "data": {
      "text/html": [
       "<div>\n",
       "<style scoped>\n",
       "    .dataframe tbody tr th:only-of-type {\n",
       "        vertical-align: middle;\n",
       "    }\n",
       "\n",
       "    .dataframe tbody tr th {\n",
       "        vertical-align: top;\n",
       "    }\n",
       "\n",
       "    .dataframe thead th {\n",
       "        text-align: right;\n",
       "    }\n",
       "</style>\n",
       "<table border=\"1\" class=\"dataframe\">\n",
       "  <thead>\n",
       "    <tr style=\"text-align: right;\">\n",
       "      <th></th>\n",
       "      <th>team_name</th>\n",
       "      <th>team_id</th>\n",
       "    </tr>\n",
       "  </thead>\n",
       "  <tbody>\n",
       "    <tr>\n",
       "      <th>0</th>\n",
       "      <td>Arizona Cardinals</td>\n",
       "      <td>1</td>\n",
       "    </tr>\n",
       "    <tr>\n",
       "      <th>1</th>\n",
       "      <td>Atlanta Falcons</td>\n",
       "      <td>2</td>\n",
       "    </tr>\n",
       "    <tr>\n",
       "      <th>2</th>\n",
       "      <td>Baltimore Ravens</td>\n",
       "      <td>3</td>\n",
       "    </tr>\n",
       "    <tr>\n",
       "      <th>3</th>\n",
       "      <td>Buffalo Bills</td>\n",
       "      <td>4</td>\n",
       "    </tr>\n",
       "    <tr>\n",
       "      <th>4</th>\n",
       "      <td>Carolina Panthers</td>\n",
       "      <td>5</td>\n",
       "    </tr>\n",
       "  </tbody>\n",
       "</table>\n",
       "</div>"
      ],
      "text/plain": [
       "           team_name  team_id\n",
       "0  Arizona Cardinals        1\n",
       "1    Atlanta Falcons        2\n",
       "2   Baltimore Ravens        3\n",
       "3      Buffalo Bills        4\n",
       "4  Carolina Panthers        5"
      ]
     },
     "execution_count": 11,
     "metadata": {},
     "output_type": "execute_result"
    }
   ],
   "source": [
    "team_data_cleaned['team_id'] = team_ids\n",
    "\n",
    "team_data_cleaned.head()"
   ]
  },
  {
   "cell_type": "code",
   "execution_count": 17,
   "id": "d188a969-de16-47fb-a58d-6d70f2fc5a0a",
   "metadata": {},
   "outputs": [],
   "source": [
    "stadium_ids = [\n",
    "    101, 102, 103, 104, 105, 106, 107, 108, 109, 110, 111, 112, 113, 114, 115, 116, 117, 118, 118, 119, 120, 121, 122, 123, \n",
    "    123, 124, 125, 126, 127, 128, 129, 130\n",
    "]\n",
    "\n",
    "city_ids = [\n",
    "    201, 202, 203, 204, 205, 206, 207, 208, 209, 210, 211, 212,  213, 214, 215, 216, 217, 218, 218, 219, 220, 221, 222, 223, \n",
    "    223, 224, 225, 226, 227, 228, 229, 230\n",
    "]\n",
    "\n",
    "# Create DataFrame for stadium and city IDs\n",
    "additional_df = pd.DataFrame({\n",
    "    'team_id': list(range(1, 33)),\n",
    "    'stadium_id': stadium_ids,\n",
    "    'city_id': city_ids\n",
    "})"
   ]
  },
  {
   "cell_type": "code",
   "execution_count": 27,
   "id": "78ff0437-1f49-45bd-92bf-0384678a0002",
   "metadata": {},
   "outputs": [
    {
     "name": "stdout",
     "output_type": "stream",
     "text": [
      "                team_name  team_id  stadium_id  city_id\n",
      "0       Arizona Cardinals        1         101      201\n",
      "1         Atlanta Falcons        2         102      202\n",
      "2        Baltimore Ravens        3         103      203\n",
      "3           Buffalo Bills        4         104      204\n",
      "4       Carolina Panthers        5         105      205\n",
      "5           Chicago Bears        6         106      206\n",
      "6      Cincinnati Bengals        7         107      207\n",
      "7        Cleveland Browns        8         108      208\n",
      "8          Dallas Cowboys        9         109      209\n",
      "9          Denver Broncos       10         110      210\n",
      "10          Detroit Lions       11         111      211\n",
      "11      Green Bay Packers       12         112      212\n",
      "12         Houston Texans       13         113      213\n",
      "13     Indianapolis Colts       14         114      214\n",
      "14   Jacksonville Jaguars       15         115      215\n",
      "15     Kansas City Chiefs       16         116      216\n",
      "16      Las Vegas Raiders       17         117      217\n",
      "17   Los Angeles Chargers       18         118      218\n",
      "18       Los Angeles Rams       19         118      218\n",
      "19         Miami Dolphins       20         119      219\n",
      "20      Minnesota Vikings       21         120      220\n",
      "21   New England Patriots       22         121      221\n",
      "22     New Orleans Saints       23         122      222\n",
      "23        New York Giants       24         123      223\n",
      "24          New York Jets       25         123      223\n",
      "25    Philadelphia Eagles       26         124      224\n",
      "26    Pittsburgh Steelers       27         125      225\n",
      "27    San Francisco 49ers       28         126      226\n",
      "28       Seattle Seahawks       29         127      227\n",
      "29   Tampa Bay Buccaneers       30         128      228\n",
      "30       Tennessee Titans       31         129      229\n",
      "31  Washington Commanders       32         130      230\n"
     ]
    }
   ],
   "source": [
    "team_data_final = pd.merge(team_data_cleaned, additional_df, on='team_id')\n",
    "\n",
    "print(team_data_final)"
   ]
  },
  {
   "cell_type": "code",
   "execution_count": 29,
   "id": "7f99c418-b88b-440e-b3b7-d95e2670a079",
   "metadata": {},
   "outputs": [],
   "source": [
    "team_data_final.to_csv(\"/Users/ylsstudent/Documents/Data_Analytics_Bootcamp/Projects/BootcampProject3/nfl_project/clean_team_data.csv\", index=False)"
   ]
  },
  {
   "cell_type": "code",
   "execution_count": null,
   "id": "453aa097-8468-48c2-b0b8-ce564c6c979a",
   "metadata": {},
   "outputs": [],
   "source": []
  }
 ],
 "metadata": {
  "kernelspec": {
   "display_name": "Python 3 (ipykernel)",
   "language": "python",
   "name": "python3"
  },
  "language_info": {
   "codemirror_mode": {
    "name": "ipython",
    "version": 3
   },
   "file_extension": ".py",
   "mimetype": "text/x-python",
   "name": "python",
   "nbconvert_exporter": "python",
   "pygments_lexer": "ipython3",
   "version": "3.11.7"
  }
 },
 "nbformat": 4,
 "nbformat_minor": 5
}
