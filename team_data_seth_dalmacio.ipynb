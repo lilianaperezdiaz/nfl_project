{
 "cells": [
  {
   "cell_type": "code",
   "execution_count": 1,
   "id": "83542198-8b11-4cc7-8021-36b8d88227a2",
   "metadata": {},
   "outputs": [],
   "source": [
    "import pandas as pd"
   ]
  },
  {
   "cell_type": "code",
   "execution_count": 2,
   "id": "be725462-e4fc-4b1b-b38e-b0674c0b0bd2",
   "metadata": {},
   "outputs": [],
   "source": [
    "# Load the CSV file\n",
    "file_path = \"/Users/ylsstudent/Downloads/archive/NFL_team_data.csv\"\n",
    "team_data = pd.read_csv(file_path)\n"
   ]
  },
  {
   "cell_type": "code",
   "execution_count": 5,
   "id": "c6e7e72f-e411-42fb-b270-3f378e14dc83",
   "metadata": {},
   "outputs": [],
   "source": [
    "# Drop all columns except 'team_name'\n",
    "team_data_cleaned = team_data.drop(columns=['home_stadium', 'location', 'lat', 'long', 'mascot', 'live_mascots', 'conference', \n",
    "                              'division', 'superbowl_wins', 'year_est'])"
   ]
  },
  {
   "cell_type": "code",
   "execution_count": 7,
   "id": "05c216f2-be38-419d-b3ac-1b1f91a7d8d2",
   "metadata": {},
   "outputs": [
    {
     "data": {
      "text/html": [
       "<div>\n",
       "<style scoped>\n",
       "    .dataframe tbody tr th:only-of-type {\n",
       "        vertical-align: middle;\n",
       "    }\n",
       "\n",
       "    .dataframe tbody tr th {\n",
       "        vertical-align: top;\n",
       "    }\n",
       "\n",
       "    .dataframe thead th {\n",
       "        text-align: right;\n",
       "    }\n",
       "</style>\n",
       "<table border=\"1\" class=\"dataframe\">\n",
       "  <thead>\n",
       "    <tr style=\"text-align: right;\">\n",
       "      <th></th>\n",
       "      <th>team_name</th>\n",
       "    </tr>\n",
       "  </thead>\n",
       "  <tbody>\n",
       "    <tr>\n",
       "      <th>0</th>\n",
       "      <td>Arizona Cardinals</td>\n",
       "    </tr>\n",
       "    <tr>\n",
       "      <th>1</th>\n",
       "      <td>Atlanta Falcons</td>\n",
       "    </tr>\n",
       "    <tr>\n",
       "      <th>2</th>\n",
       "      <td>Baltimore Ravens</td>\n",
       "    </tr>\n",
       "    <tr>\n",
       "      <th>3</th>\n",
       "      <td>Buffalo Bills</td>\n",
       "    </tr>\n",
       "    <tr>\n",
       "      <th>4</th>\n",
       "      <td>Carolina Panthers</td>\n",
       "    </tr>\n",
       "  </tbody>\n",
       "</table>\n",
       "</div>"
      ],
      "text/plain": [
       "           team_name\n",
       "0  Arizona Cardinals\n",
       "1    Atlanta Falcons\n",
       "2   Baltimore Ravens\n",
       "3      Buffalo Bills\n",
       "4  Carolina Panthers"
      ]
     },
     "execution_count": 7,
     "metadata": {},
     "output_type": "execute_result"
    }
   ],
   "source": [
    "# Sort the DataFrame by 'team_name' alphabetically\n",
    "team_data_cleaned = team_data_cleaned.sort_values(by='team_name').reset_index(drop=True)\n",
    "\n",
    "team_data_cleaned.head()"
   ]
  },
  {
   "cell_type": "code",
   "execution_count": 9,
   "id": "4cd4c8cf-9c0f-4c3e-af37-9a42885bd3a2",
   "metadata": {},
   "outputs": [],
   "source": [
    "team_ids = []\n",
    "\n",
    "for team_id in range(1, len(team_data_cleaned) + 1):\n",
    "    team_ids.append(team_id)"
   ]
  },
  {
   "cell_type": "code",
   "execution_count": 11,
   "id": "85ba065b-8b3a-46f3-a3b2-e6cb8b65c773",
   "metadata": {},
   "outputs": [
    {
     "data": {
      "text/html": [
       "<div>\n",
       "<style scoped>\n",
       "    .dataframe tbody tr th:only-of-type {\n",
       "        vertical-align: middle;\n",
       "    }\n",
       "\n",
       "    .dataframe tbody tr th {\n",
       "        vertical-align: top;\n",
       "    }\n",
       "\n",
       "    .dataframe thead th {\n",
       "        text-align: right;\n",
       "    }\n",
       "</style>\n",
       "<table border=\"1\" class=\"dataframe\">\n",
       "  <thead>\n",
       "    <tr style=\"text-align: right;\">\n",
       "      <th></th>\n",
       "      <th>team_name</th>\n",
       "      <th>team_id</th>\n",
       "    </tr>\n",
       "  </thead>\n",
       "  <tbody>\n",
       "    <tr>\n",
       "      <th>0</th>\n",
       "      <td>Arizona Cardinals</td>\n",
       "      <td>1</td>\n",
       "    </tr>\n",
       "    <tr>\n",
       "      <th>1</th>\n",
       "      <td>Atlanta Falcons</td>\n",
       "      <td>2</td>\n",
       "    </tr>\n",
       "    <tr>\n",
       "      <th>2</th>\n",
       "      <td>Baltimore Ravens</td>\n",
       "      <td>3</td>\n",
       "    </tr>\n",
       "    <tr>\n",
       "      <th>3</th>\n",
       "      <td>Buffalo Bills</td>\n",
       "      <td>4</td>\n",
       "    </tr>\n",
       "    <tr>\n",
       "      <th>4</th>\n",
       "      <td>Carolina Panthers</td>\n",
       "      <td>5</td>\n",
       "    </tr>\n",
       "  </tbody>\n",
       "</table>\n",
       "</div>"
      ],
      "text/plain": [
       "           team_name  team_id\n",
       "0  Arizona Cardinals        1\n",
       "1    Atlanta Falcons        2\n",
       "2   Baltimore Ravens        3\n",
       "3      Buffalo Bills        4\n",
       "4  Carolina Panthers        5"
      ]
     },
     "execution_count": 11,
     "metadata": {},
     "output_type": "execute_result"
    }
   ],
   "source": [
    "# Add the team_id list as a new column to the DataFrame\n",
    "team_data_cleaned['team_id'] = team_ids\n",
    "\n",
    "# Show the cleaned DataFrame\n",
    "team_data_cleaned.head()"
   ]
  },
  {
   "cell_type": "code",
   "execution_count": 13,
   "id": "7f99c418-b88b-440e-b3b7-d95e2670a079",
   "metadata": {},
   "outputs": [],
   "source": [
    "team_data_cleaned.to_csv(\"/Users/ylsstudent/Documents/Data_Analytics_Bootcamp/Projects/BootcampProject3/nfl_project/clean_team_data.csv\", index=False)"
   ]
  },
  {
   "cell_type": "code",
   "execution_count": null,
   "id": "453aa097-8468-48c2-b0b8-ce564c6c979a",
   "metadata": {},
   "outputs": [],
   "source": []
  }
 ],
 "metadata": {
  "kernelspec": {
   "display_name": "Python 3 (ipykernel)",
   "language": "python",
   "name": "python3"
  },
  "language_info": {
   "codemirror_mode": {
    "name": "ipython",
    "version": 3
   },
   "file_extension": ".py",
   "mimetype": "text/x-python",
   "name": "python",
   "nbconvert_exporter": "python",
   "pygments_lexer": "ipython3",
   "version": "3.11.7"
  }
 },
 "nbformat": 4,
 "nbformat_minor": 5
}
